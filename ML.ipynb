{
 "cells": [
  {
   "cell_type": "code",
   "execution_count": 24,
   "metadata": {},
   "outputs": [
    {
     "name": "stderr",
     "output_type": "stream",
     "text": [
      "Using TensorFlow backend.\n"
     ]
    }
   ],
   "source": [
    "import numpy as np\n",
    "import pandas as pd\n",
    "import tensorflow as tf\n",
    "import matplotlib.pyplot as plt\n",
    "from sklearn.preprocessing import MinMaxScaler\n",
    "from keras import Sequential\n",
    "from keras.layers import Dense, LSTM"
   ]
  },
  {
   "cell_type": "code",
   "execution_count": 2,
   "metadata": {},
   "outputs": [],
   "source": [
    "btc1mdata = pd.read_csv('/Users/micktor/Documents/Keras/btcusdgemini1m.csv')"
   ]
  },
  {
   "cell_type": "code",
   "execution_count": 3,
   "metadata": {},
   "outputs": [
    {
     "data": {
      "text/html": [
       "<div>\n",
       "<style scoped>\n",
       "    .dataframe tbody tr th:only-of-type {\n",
       "        vertical-align: middle;\n",
       "    }\n",
       "\n",
       "    .dataframe tbody tr th {\n",
       "        vertical-align: top;\n",
       "    }\n",
       "\n",
       "    .dataframe thead th {\n",
       "        text-align: right;\n",
       "    }\n",
       "</style>\n",
       "<table border=\"1\" class=\"dataframe\">\n",
       "  <thead>\n",
       "    <tr style=\"text-align: right;\">\n",
       "      <th></th>\n",
       "      <th>Unix Timestamp</th>\n",
       "      <th>Date</th>\n",
       "      <th>Symbol</th>\n",
       "      <th>Open</th>\n",
       "      <th>High</th>\n",
       "      <th>Low</th>\n",
       "      <th>Close</th>\n",
       "      <th>Volume</th>\n",
       "    </tr>\n",
       "  </thead>\n",
       "  <tbody>\n",
       "    <tr>\n",
       "      <th>0</th>\n",
       "      <td>1546300000000</td>\n",
       "      <td>1/1/19 1:09</td>\n",
       "      <td>BTCUSD</td>\n",
       "      <td>3690.50</td>\n",
       "      <td>3690.50</td>\n",
       "      <td>3690.4</td>\n",
       "      <td>3690.5</td>\n",
       "      <td>0.719779</td>\n",
       "    </tr>\n",
       "    <tr>\n",
       "      <th>1</th>\n",
       "      <td>1546300000000</td>\n",
       "      <td>1/1/19 1:08</td>\n",
       "      <td>BTCUSD</td>\n",
       "      <td>3692.85</td>\n",
       "      <td>3692.85</td>\n",
       "      <td>3690.5</td>\n",
       "      <td>3690.5</td>\n",
       "      <td>0.001084</td>\n",
       "    </tr>\n",
       "  </tbody>\n",
       "</table>\n",
       "</div>"
      ],
      "text/plain": [
       "   Unix Timestamp         Date  Symbol     Open     High     Low   Close  \\\n",
       "0   1546300000000  1/1/19 1:09  BTCUSD  3690.50  3690.50  3690.4  3690.5   \n",
       "1   1546300000000  1/1/19 1:08  BTCUSD  3692.85  3692.85  3690.5  3690.5   \n",
       "\n",
       "     Volume  \n",
       "0  0.719779  \n",
       "1  0.001084  "
      ]
     },
     "execution_count": 3,
     "metadata": {},
     "output_type": "execute_result"
    }
   ],
   "source": [
    "btc1mdata.head(2)"
   ]
  },
  {
   "cell_type": "code",
   "execution_count": 4,
   "metadata": {},
   "outputs": [
    {
     "data": {
      "text/html": [
       "<div>\n",
       "<style scoped>\n",
       "    .dataframe tbody tr th:only-of-type {\n",
       "        vertical-align: middle;\n",
       "    }\n",
       "\n",
       "    .dataframe tbody tr th {\n",
       "        vertical-align: top;\n",
       "    }\n",
       "\n",
       "    .dataframe thead th {\n",
       "        text-align: right;\n",
       "    }\n",
       "</style>\n",
       "<table border=\"1\" class=\"dataframe\">\n",
       "  <thead>\n",
       "    <tr style=\"text-align: right;\">\n",
       "      <th></th>\n",
       "      <th>Unix Timestamp</th>\n",
       "      <th>Date</th>\n",
       "      <th>Symbol</th>\n",
       "      <th>Open</th>\n",
       "      <th>High</th>\n",
       "      <th>Low</th>\n",
       "      <th>Close</th>\n",
       "      <th>Volume</th>\n",
       "    </tr>\n",
       "  </thead>\n",
       "  <tbody>\n",
       "    <tr>\n",
       "      <th>226115</th>\n",
       "      <td>1560560000000</td>\n",
       "      <td>6/14/19 23:31</td>\n",
       "      <td>BTCUSD</td>\n",
       "      <td>8687.45</td>\n",
       "      <td>8729.17</td>\n",
       "      <td>8687.45</td>\n",
       "      <td>8729.17</td>\n",
       "      <td>31.177668</td>\n",
       "    </tr>\n",
       "    <tr>\n",
       "      <th>226116</th>\n",
       "      <td>1560560000000</td>\n",
       "      <td>6/14/19 23:30</td>\n",
       "      <td>BTCUSD</td>\n",
       "      <td>8681.27</td>\n",
       "      <td>8687.45</td>\n",
       "      <td>8681.27</td>\n",
       "      <td>8687.45</td>\n",
       "      <td>1.000000</td>\n",
       "    </tr>\n",
       "  </tbody>\n",
       "</table>\n",
       "</div>"
      ],
      "text/plain": [
       "        Unix Timestamp           Date  Symbol     Open     High      Low  \\\n",
       "226115   1560560000000  6/14/19 23:31  BTCUSD  8687.45  8729.17  8687.45   \n",
       "226116   1560560000000  6/14/19 23:30  BTCUSD  8681.27  8687.45  8681.27   \n",
       "\n",
       "          Close     Volume  \n",
       "226115  8729.17  31.177668  \n",
       "226116  8687.45   1.000000  "
      ]
     },
     "execution_count": 4,
     "metadata": {},
     "output_type": "execute_result"
    }
   ],
   "source": [
    "btc1mdata.tail(2)"
   ]
  },
  {
   "cell_type": "code",
   "execution_count": 5,
   "metadata": {},
   "outputs": [
    {
     "name": "stdout",
     "output_type": "stream",
     "text": [
      "<class 'pandas.core.frame.DataFrame'>\n",
      "RangeIndex: 226117 entries, 0 to 226116\n",
      "Data columns (total 8 columns):\n",
      "Unix Timestamp    226117 non-null int64\n",
      "Date              226117 non-null object\n",
      "Symbol            226117 non-null object\n",
      "Open              226117 non-null float64\n",
      "High              226117 non-null float64\n",
      "Low               226117 non-null float64\n",
      "Close             226117 non-null float64\n",
      "Volume            226117 non-null float64\n",
      "dtypes: float64(5), int64(1), object(2)\n",
      "memory usage: 13.8+ MB\n"
     ]
    }
   ],
   "source": [
    "btc1mdata.info()"
   ]
  },
  {
   "cell_type": "code",
   "execution_count": 6,
   "metadata": {},
   "outputs": [],
   "source": [
    "btc1mframe = btc1mdata.iloc[:,[6,7]]"
   ]
  },
  {
   "cell_type": "code",
   "execution_count": 7,
   "metadata": {},
   "outputs": [
    {
     "name": "stdout",
     "output_type": "stream",
     "text": [
      "          Close     Volume\n",
      "0       3690.50   0.719779\n",
      "1       3690.50   0.001084\n",
      "2       3692.85   0.090747\n",
      "3       3693.35   0.411550\n",
      "4       3693.85   0.000000\n",
      "5       3693.85   0.000000\n",
      "6       3693.85   0.027772\n",
      "7       3695.96   0.674426\n",
      "8       3696.16   0.133923\n",
      "9       3696.35   0.009416\n",
      "10      3696.16   0.105899\n",
      "11      3694.39   0.055730\n",
      "12      3692.37   0.267510\n",
      "13      3699.41   1.384426\n",
      "14      3696.11   2.594000\n",
      "15      3700.00   0.624298\n",
      "16      3700.00   0.052000\n",
      "17      3700.00   0.029730\n",
      "18      3700.00   0.100947\n",
      "19      3700.00   0.000000\n",
      "20      3700.00   0.015555\n",
      "21      3697.67   0.075336\n",
      "22      3695.52   1.326080\n",
      "23      3695.50   0.026120\n",
      "24      3695.50   0.123307\n",
      "25      3695.00   1.349829\n",
      "26      3691.68   0.013785\n",
      "27      3691.68   0.005562\n",
      "28      3691.68   0.000000\n",
      "29      3691.68   0.041111\n",
      "...         ...        ...\n",
      "226087  8699.71   0.028163\n",
      "226088  8700.92   0.069165\n",
      "226089  8694.94   3.467066\n",
      "226090  8681.97   5.327475\n",
      "226091  8680.92   0.364869\n",
      "226092  8681.97   0.333048\n",
      "226093  8691.27   1.033226\n",
      "226094  8698.42   0.011456\n",
      "226095  8707.00   0.203810\n",
      "226096  8712.75   0.201755\n",
      "226097  8720.41   0.042401\n",
      "226098  8708.57   0.516895\n",
      "226099  8708.57   0.022381\n",
      "226100  8704.40   0.017496\n",
      "226101  8707.42   0.010281\n",
      "226102  8707.42   0.056348\n",
      "226103  8709.83   0.060648\n",
      "226104  8703.80   0.575972\n",
      "226105  8718.80   0.347638\n",
      "226106  8716.10   0.022491\n",
      "226107  8716.10   0.756738\n",
      "226108  8720.48   0.836262\n",
      "226109  8707.22   0.025314\n",
      "226110  8699.09   0.288540\n",
      "226111  8722.93   0.091201\n",
      "226112  8729.15   0.116453\n",
      "226113  8729.16   0.026755\n",
      "226114  8729.17   1.625788\n",
      "226115  8729.17  31.177668\n",
      "226116  8687.45   1.000000\n",
      "\n",
      "[226117 rows x 2 columns]\n"
     ]
    }
   ],
   "source": [
    "print(btc1mframe)"
   ]
  },
  {
   "cell_type": "code",
   "execution_count": 8,
   "metadata": {},
   "outputs": [],
   "source": [
    "input_data = btc1mframe"
   ]
  },
  {
   "cell_type": "code",
   "execution_count": 9,
   "metadata": {},
   "outputs": [
    {
     "data": {
      "text/plain": [
       "[<matplotlib.lines.Line2D at 0x133383fd0>]"
      ]
     },
     "execution_count": 9,
     "metadata": {},
     "output_type": "execute_result"
    },
    {
     "data": {
      "image/png": "[encoded data removed]",
      "text/plain": [
       "<Figure size 432x288 with 1 Axes>"
      ]
     },
     "metadata": {
      "needs_background": "light"
     },
     "output_type": "display_data"
    }
   ],
   "source": [
    "plt.plot(btc1mframe['Close'])"
   ]
  },
  {
   "cell_type": "code",
   "execution_count": 10,
   "metadata": {},
   "outputs": [
    {
     "data": {
      "text/plain": [
       "[<matplotlib.lines.Line2D at 0x10866b048>]"
      ]
     },
     "execution_count": 10,
     "metadata": {},
     "output_type": "execute_result"
    },
    {
     "data": {
      "image/png": "[encoded data removed]",
      "text/plain": [
       "<Figure size 432x288 with 1 Axes>"
      ]
     },
     "metadata": {
      "needs_background": "light"
     },
     "output_type": "display_data"
    }
   ],
   "source": [
    "plt.plot(btc1mframe['Volume'])"
   ]
  },
  {
   "cell_type": "code",
   "execution_count": 11,
   "metadata": {},
   "outputs": [],
   "source": [
    "from sklearn.preprocessing import MinMaxScaler\n"
   ]
  },
  {
   "cell_type": "code",
   "execution_count": 12,
   "metadata": {},
   "outputs": [],
   "source": [
    "scaler = MinMaxScaler(feature_range=(0,1))"
   ]
  },
  {
   "cell_type": "code",
   "execution_count": 13,
   "metadata": {},
   "outputs": [],
   "source": [
    "input_data = scaler.fit_transform(btc1mframe)"
   ]
  },
  {
   "cell_type": "code",
   "execution_count": 14,
   "metadata": {},
   "outputs": [
    {
     "data": {
      "text/plain": [
       "226117"
      ]
     },
     "execution_count": 14,
     "metadata": {},
     "output_type": "execute_result"
    }
   ],
   "source": [
    "len(input_data)"
   ]
  },
  {
   "cell_type": "code",
   "execution_count": 15,
   "metadata": {},
   "outputs": [],
   "source": [
    "lookback= 50\n",
    "\n",
    "test_size=int(.3 * len(input_data))\n",
    "X=[]\n",
    "y=[]\n",
    "for i in range(len(input_data)-lookback-1):\n",
    "    t=[]\n",
    "    for j in range(0,lookback):\n",
    "        \n",
    "        t.append(input_data[[(i+j)], :])\n",
    "    X.append(t)\n",
    "    y.append(input_data[i+ lookback,1])"
   ]
  },
  {
   "cell_type": "code",
   "execution_count": 21,
   "metadata": {},
   "outputs": [],
   "source": [
    "X, y= np.array(X), np.array(y)"
   ]
  },
  {
   "cell_type": "code",
   "execution_count": 22,
   "metadata": {},
   "outputs": [],
   "source": [
    "X_test = X[:test_size+lookback]"
   ]
  },
  {
   "cell_type": "code",
   "execution_count": 23,
   "metadata": {},
   "outputs": [
    {
     "name": "stdout",
     "output_type": "stream",
     "text": [
      "(226066, 50, 2)\n",
      "(67885, 50, 2)\n"
     ]
    }
   ],
   "source": [
    "X = X.reshape(X.shape[0],lookback, 2)\n",
    "X_test = X_test.reshape(X_test.shape[0],lookback, 2)\n",
    "print(X.shape)\n",
    "print(X_test.shape)"
   ]
  },
  {
   "cell_type": "code",
   "execution_count": 25,
   "metadata": {},
   "outputs": [
    {
     "name": "stdout",
     "output_type": "stream",
     "text": [
      "WARNING:tensorflow:From /Library/Frameworks/Python.framework/Versions/3.7/lib/python3.7/site-packages/tensorflow/python/framework/op_def_library.py:263: colocate_with (from tensorflow.python.framework.ops) is deprecated and will be removed in a future version.\n",
      "Instructions for updating:\n",
      "Colocations handled automatically by placer.\n",
      "_________________________________________________________________\n",
      "Layer (type)                 Output Shape              Param #   \n",
      "=================================================================\n",
      "lstm_1 (LSTM)                (None, 50, 30)            3960      \n",
      "_________________________________________________________________\n",
      "lstm_2 (LSTM)                (None, 50, 30)            7320      \n",
      "_________________________________________________________________\n",
      "lstm_3 (LSTM)                (None, 30)                7320      \n",
      "_________________________________________________________________\n",
      "dense_1 (Dense)              (None, 1)                 31        \n",
      "=================================================================\n",
      "Total params: 18,631\n",
      "Trainable params: 18,631\n",
      "Non-trainable params: 0\n",
      "_________________________________________________________________\n"
     ]
    }
   ],
   "source": [
    "model = Sequential()\n",
    "model.add(LSTM(units=30, return_sequences= True, input_shape=(X.shape[1],2)))\n",
    "model.add(LSTM(units=30, return_sequences=True))\n",
    "model.add(LSTM(units=30))\n",
    "model.add(Dense(units=1))\n",
    "model.summary()"
   ]
  },
  {
   "cell_type": "code",
   "execution_count": 26,
   "metadata": {},
   "outputs": [],
   "source": [
    "model.compile(optimizer='adam', loss='mean_squared_error')"
   ]
  },
  {
   "cell_type": "code",
   "execution_count": null,
   "metadata": {},
   "outputs": [
    {
     "name": "stdout",
     "output_type": "stream",
     "text": [
      "WARNING:tensorflow:From /Library/Frameworks/Python.framework/Versions/3.7/lib/python3.7/site-packages/tensorflow/python/ops/math_ops.py:3066: to_int32 (from tensorflow.python.ops.math_ops) is deprecated and will be removed in a future version.\n",
      "Instructions for updating:\n",
      "Use tf.cast instead.\n",
      "Epoch 1/200\n",
      "226066/226066 [==============================] - 884s 4ms/step - loss: 2.1769e-04\n",
      "Epoch 2/200\n",
      " 16800/226066 [=>............................] - ETA: 14:14 - loss: 2.2419e-04"
     ]
    }
   ],
   "source": [
    "model.fit(X, y, epochs=200, batch_size=32)"
   ]
  },
  {
   "cell_type": "code",
   "execution_count": null,
   "metadata": {},
   "outputs": [],
   "source": []
  }
 ],
 "metadata": {
  "kernelspec": {
   "display_name": "Python 3",
   "language": "python",
   "name": "python3"
  },
  "language_info": {
   "codemirror_mode": {
    "name": "ipython",
    "version": 3
   },
   "file_extension": ".py",
   "mimetype": "text/x-python",
   "name": "python",
   "nbconvert_exporter": "python",
   "pygments_lexer": "ipython3",
   "version": "3.7.2"
  }
 },
 "nbformat": 4,
 "nbformat_minor": 2
}
