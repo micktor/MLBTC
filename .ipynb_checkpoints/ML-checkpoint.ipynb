{
 "cells": [
  {
   "cell_type": "code",
   "execution_count": 1,
   "metadata": {},
   "outputs": [
    {
     "name": "stderr",
     "output_type": "stream",
     "text": [
      "Using TensorFlow backend.\n"
     ]
    }
   ],
   "source": [
    "import numpy as np\n",
    "import pandas as pd\n",
    "import tensorflow as tf\n",
    "import matplotlib.pyplot as plt\n",
    "from sklearn.preprocessing import MinMaxScaler\n",
    "from keras import Sequential\n",
    "from keras.layers import Dense, LSTM, Dropout, CuDNNLSTM"
   ]
  },
  {
   "cell_type": "code",
   "execution_count": 2,
   "metadata": {},
   "outputs": [],
   "source": [
    "btc1mdata = pd.read_csv('D:/Downloads/MLBTC/btcusdgemini1m.csv')"
   ]
  },
  {
   "cell_type": "code",
   "execution_count": 3,
   "metadata": {},
   "outputs": [
    {
     "data": {
      "text/html": [
       "<div>\n",
       "<style scoped>\n",
       "    .dataframe tbody tr th:only-of-type {\n",
       "        vertical-align: middle;\n",
       "    }\n",
       "\n",
       "    .dataframe tbody tr th {\n",
       "        vertical-align: top;\n",
       "    }\n",
       "\n",
       "    .dataframe thead th {\n",
       "        text-align: right;\n",
       "    }\n",
       "</style>\n",
       "<table border=\"1\" class=\"dataframe\">\n",
       "  <thead>\n",
       "    <tr style=\"text-align: right;\">\n",
       "      <th></th>\n",
       "      <th>Unix Timestamp</th>\n",
       "      <th>Date</th>\n",
       "      <th>Symbol</th>\n",
       "      <th>Open</th>\n",
       "      <th>High</th>\n",
       "      <th>Low</th>\n",
       "      <th>Close</th>\n",
       "      <th>Volume</th>\n",
       "    </tr>\n",
       "  </thead>\n",
       "  <tbody>\n",
       "    <tr>\n",
       "      <th>0</th>\n",
       "      <td>1546300000000</td>\n",
       "      <td>1/1/19 1:09</td>\n",
       "      <td>BTCUSD</td>\n",
       "      <td>3690.50</td>\n",
       "      <td>3690.50</td>\n",
       "      <td>3690.4</td>\n",
       "      <td>3690.5</td>\n",
       "      <td>0.719779</td>\n",
       "    </tr>\n",
       "    <tr>\n",
       "      <th>1</th>\n",
       "      <td>1546300000000</td>\n",
       "      <td>1/1/19 1:08</td>\n",
       "      <td>BTCUSD</td>\n",
       "      <td>3692.85</td>\n",
       "      <td>3692.85</td>\n",
       "      <td>3690.5</td>\n",
       "      <td>3690.5</td>\n",
       "      <td>0.001084</td>\n",
       "    </tr>\n",
       "  </tbody>\n",
       "</table>\n",
       "</div>"
      ],
      "text/plain": [
       "   Unix Timestamp         Date  Symbol     Open     High     Low   Close  \\\n",
       "0   1546300000000  1/1/19 1:09  BTCUSD  3690.50  3690.50  3690.4  3690.5   \n",
       "1   1546300000000  1/1/19 1:08  BTCUSD  3692.85  3692.85  3690.5  3690.5   \n",
       "\n",
       "     Volume  \n",
       "0  0.719779  \n",
       "1  0.001084  "
      ]
     },
     "execution_count": 3,
     "metadata": {},
     "output_type": "execute_result"
    }
   ],
   "source": [
    "btc1mdata.head(2)"
   ]
  },
  {
   "cell_type": "code",
   "execution_count": 4,
   "metadata": {},
   "outputs": [
    {
     "data": {
      "text/html": [
       "<div>\n",
       "<style scoped>\n",
       "    .dataframe tbody tr th:only-of-type {\n",
       "        vertical-align: middle;\n",
       "    }\n",
       "\n",
       "    .dataframe tbody tr th {\n",
       "        vertical-align: top;\n",
       "    }\n",
       "\n",
       "    .dataframe thead th {\n",
       "        text-align: right;\n",
       "    }\n",
       "</style>\n",
       "<table border=\"1\" class=\"dataframe\">\n",
       "  <thead>\n",
       "    <tr style=\"text-align: right;\">\n",
       "      <th></th>\n",
       "      <th>Unix Timestamp</th>\n",
       "      <th>Date</th>\n",
       "      <th>Symbol</th>\n",
       "      <th>Open</th>\n",
       "      <th>High</th>\n",
       "      <th>Low</th>\n",
       "      <th>Close</th>\n",
       "      <th>Volume</th>\n",
       "    </tr>\n",
       "  </thead>\n",
       "  <tbody>\n",
       "    <tr>\n",
       "      <th>226115</th>\n",
       "      <td>1560560000000</td>\n",
       "      <td>6/14/19 23:31</td>\n",
       "      <td>BTCUSD</td>\n",
       "      <td>8687.45</td>\n",
       "      <td>8729.17</td>\n",
       "      <td>8687.45</td>\n",
       "      <td>8729.17</td>\n",
       "      <td>31.177668</td>\n",
       "    </tr>\n",
       "    <tr>\n",
       "      <th>226116</th>\n",
       "      <td>1560560000000</td>\n",
       "      <td>6/14/19 23:30</td>\n",
       "      <td>BTCUSD</td>\n",
       "      <td>8681.27</td>\n",
       "      <td>8687.45</td>\n",
       "      <td>8681.27</td>\n",
       "      <td>8687.45</td>\n",
       "      <td>1.000000</td>\n",
       "    </tr>\n",
       "  </tbody>\n",
       "</table>\n",
       "</div>"
      ],
      "text/plain": [
       "        Unix Timestamp           Date  Symbol     Open     High      Low  \\\n",
       "226115   1560560000000  6/14/19 23:31  BTCUSD  8687.45  8729.17  8687.45   \n",
       "226116   1560560000000  6/14/19 23:30  BTCUSD  8681.27  8687.45  8681.27   \n",
       "\n",
       "          Close     Volume  \n",
       "226115  8729.17  31.177668  \n",
       "226116  8687.45   1.000000  "
      ]
     },
     "execution_count": 4,
     "metadata": {},
     "output_type": "execute_result"
    }
   ],
   "source": [
    "btc1mdata.tail(2)"
   ]
  },
  {
   "cell_type": "code",
   "execution_count": 5,
   "metadata": {},
   "outputs": [
    {
     "name": "stdout",
     "output_type": "stream",
     "text": [
      "<class 'pandas.core.frame.DataFrame'>\n",
      "RangeIndex: 226117 entries, 0 to 226116\n",
      "Data columns (total 8 columns):\n",
      "Unix Timestamp    226117 non-null int64\n",
      "Date              226117 non-null object\n",
      "Symbol            226117 non-null object\n",
      "Open              226117 non-null float64\n",
      "High              226117 non-null float64\n",
      "Low               226117 non-null float64\n",
      "Close             226117 non-null float64\n",
      "Volume            226117 non-null float64\n",
      "dtypes: float64(5), int64(1), object(2)\n",
      "memory usage: 13.8+ MB\n"
     ]
    }
   ],
   "source": [
    "btc1mdata.info()"
   ]
  },
  {
   "cell_type": "code",
   "execution_count": 6,
   "metadata": {},
   "outputs": [],
   "source": [
    "btc1mframe = btc1mdata.iloc[:,[6,7]]"
   ]
  },
  {
   "cell_type": "code",
   "execution_count": 7,
   "metadata": {},
   "outputs": [
    {
     "name": "stdout",
     "output_type": "stream",
     "text": [
      "          Close     Volume\n",
      "0       3690.50   0.719779\n",
      "1       3690.50   0.001084\n",
      "2       3692.85   0.090747\n",
      "3       3693.35   0.411550\n",
      "4       3693.85   0.000000\n",
      "5       3693.85   0.000000\n",
      "6       3693.85   0.027772\n",
      "7       3695.96   0.674426\n",
      "8       3696.16   0.133923\n",
      "9       3696.35   0.009416\n",
      "10      3696.16   0.105899\n",
      "11      3694.39   0.055730\n",
      "12      3692.37   0.267510\n",
      "13      3699.41   1.384426\n",
      "14      3696.11   2.594000\n",
      "15      3700.00   0.624298\n",
      "16      3700.00   0.052000\n",
      "17      3700.00   0.029730\n",
      "18      3700.00   0.100947\n",
      "19      3700.00   0.000000\n",
      "20      3700.00   0.015555\n",
      "21      3697.67   0.075336\n",
      "22      3695.52   1.326080\n",
      "23      3695.50   0.026120\n",
      "24      3695.50   0.123307\n",
      "25      3695.00   1.349829\n",
      "26      3691.68   0.013785\n",
      "27      3691.68   0.005562\n",
      "28      3691.68   0.000000\n",
      "29      3691.68   0.041111\n",
      "...         ...        ...\n",
      "226087  8699.71   0.028163\n",
      "226088  8700.92   0.069165\n",
      "226089  8694.94   3.467066\n",
      "226090  8681.97   5.327475\n",
      "226091  8680.92   0.364869\n",
      "226092  8681.97   0.333048\n",
      "226093  8691.27   1.033226\n",
      "226094  8698.42   0.011456\n",
      "226095  8707.00   0.203810\n",
      "226096  8712.75   0.201755\n",
      "226097  8720.41   0.042401\n",
      "226098  8708.57   0.516895\n",
      "226099  8708.57   0.022381\n",
      "226100  8704.40   0.017496\n",
      "226101  8707.42   0.010281\n",
      "226102  8707.42   0.056348\n",
      "226103  8709.83   0.060648\n",
      "226104  8703.80   0.575972\n",
      "226105  8718.80   0.347638\n",
      "226106  8716.10   0.022491\n",
      "226107  8716.10   0.756738\n",
      "226108  8720.48   0.836262\n",
      "226109  8707.22   0.025314\n",
      "226110  8699.09   0.288540\n",
      "226111  8722.93   0.091201\n",
      "226112  8729.15   0.116453\n",
      "226113  8729.16   0.026755\n",
      "226114  8729.17   1.625788\n",
      "226115  8729.17  31.177668\n",
      "226116  8687.45   1.000000\n",
      "\n",
      "[226117 rows x 2 columns]\n"
     ]
    }
   ],
   "source": [
    "print(btc1mframe)"
   ]
  },
  {
   "cell_type": "code",
   "execution_count": 8,
   "metadata": {},
   "outputs": [],
   "source": [
    "input_data = btc1mframe"
   ]
  },
  {
   "cell_type": "code",
   "execution_count": 9,
   "metadata": {},
   "outputs": [
    {
     "data": {
      "text/plain": [
       "[<matplotlib.lines.Line2D at 0x17129c10cc0>]"
      ]
     },
     "execution_count": 9,
     "metadata": {},
     "output_type": "execute_result"
    },
    {
     "data": {
      "image/png": "[encoded data removed]",
      "text/plain": [
       "<Figure size 432x288 with 1 Axes>"
      ]
     },
     "metadata": {
      "needs_background": "light"
     },
     "output_type": "display_data"
    }
   ],
   "source": [
    "plt.plot(btc1mframe['Close'])"
   ]
  },
  {
   "cell_type": "code",
   "execution_count": 10,
   "metadata": {},
   "outputs": [
    {
     "data": {
      "text/plain": [
       "[<matplotlib.lines.Line2D at 0x1712a0a5f98>]"
      ]
     },
     "execution_count": 10,
     "metadata": {},
     "output_type": "execute_result"
    },
    {
     "data": {
      "image/png": "[encoded data removed]",
      "text/plain": [
       "<Figure size 432x288 with 1 Axes>"
      ]
     },
     "metadata": {
      "needs_background": "light"
     },
     "output_type": "display_data"
    }
   ],
   "source": [
    "plt.plot(btc1mframe['Volume'])"
   ]
  },
  {
   "cell_type": "code",
   "execution_count": 11,
   "metadata": {},
   "outputs": [],
   "source": [
    "from sklearn.preprocessing import MinMaxScaler\n",
    "scaler = MinMaxScaler(feature_range=(0,1))\n",
    "input_data = scaler.fit_transform(btc1mframe)"
   ]
  },
  {
   "cell_type": "code",
   "execution_count": 12,
   "metadata": {},
   "outputs": [
    {
     "data": {
      "text/plain": [
       "[<matplotlib.lines.Line2D at 0x1712a0b8908>,\n",
       " <matplotlib.lines.Line2D at 0x1712a1146a0>]"
      ]
     },
     "execution_count": 12,
     "metadata": {},
     "output_type": "execute_result"
    },
    {
     "data": {
      "image/png": "[encoded data removed]",
      "text/plain": [
       "<Figure size 432x288 with 1 Axes>"
      ]
     },
     "metadata": {
      "needs_background": "light"
     },
     "output_type": "display_data"
    }
   ],
   "source": [
    "plt.plot(input_data)"
   ]
  },
  {
   "cell_type": "code",
   "execution_count": 13,
   "metadata": {},
   "outputs": [],
   "source": [
    "lookback= 50\n",
    "\n",
    "test_size=int(.3 * len(input_data))\n",
    "X=[]\n",
    "y=[]\n",
    "for i in range(len(input_data)-lookback-1):\n",
    "    t=[]\n",
    "    for j in range(0,lookback):\n",
    "        \n",
    "        t.append(input_data[[(i+j)], :])\n",
    "    X.append(t)\n",
    "    y.append(input_data[i+ lookback,0])"
   ]
  },
  {
   "cell_type": "code",
   "execution_count": 14,
   "metadata": {},
   "outputs": [
    {
     "name": "stdout",
     "output_type": "stream",
     "text": [
      "(226066, 50, 2)\n",
      "(67885, 50, 2)\n"
     ]
    }
   ],
   "source": [
    "X, y= np.array(X), np.array(y)\n",
    "X_test = X[:test_size+lookback]\n",
    "X = X.reshape(X.shape[0],lookback, 2)\n",
    "X_test = X_test.reshape(X_test.shape[0],lookback, 2)\n",
    "print(X.shape)\n",
    "print(X_test.shape)"
   ]
  },
  {
   "cell_type": "code",
   "execution_count": 15,
   "metadata": {},
   "outputs": [
    {
     "name": "stdout",
     "output_type": "stream",
     "text": [
      "WARNING:tensorflow:From c:\\users\\mick\\appdata\\local\\programs\\python\\python37\\lib\\site-packages\\tensorflow\\python\\framework\\op_def_library.py:263: colocate_with (from tensorflow.python.framework.ops) is deprecated and will be removed in a future version.\n",
      "Instructions for updating:\n",
      "Colocations handled automatically by placer.\n",
      "WARNING:tensorflow:From c:\\users\\mick\\appdata\\local\\programs\\python\\python37\\lib\\site-packages\\keras\\backend\\tensorflow_backend.py:3445: calling dropout (from tensorflow.python.ops.nn_ops) with keep_prob is deprecated and will be removed in a future version.\n",
      "Instructions for updating:\n",
      "Please use `rate` instead of `keep_prob`. Rate should be set to `rate = 1 - keep_prob`.\n",
      "_________________________________________________________________\n",
      "Layer (type)                 Output Shape              Param #   \n",
      "=================================================================\n",
      "cu_dnnlstm_1 (CuDNNLSTM)     (None, 50, 50)            10800     \n",
      "_________________________________________________________________\n",
      "dropout_1 (Dropout)          (None, 50, 50)            0         \n",
      "_________________________________________________________________\n",
      "cu_dnnlstm_2 (CuDNNLSTM)     (None, 50, 50)            20400     \n",
      "_________________________________________________________________\n",
      "dropout_2 (Dropout)          (None, 50, 50)            0         \n",
      "_________________________________________________________________\n",
      "cu_dnnlstm_3 (CuDNNLSTM)     (None, 50)                20400     \n",
      "_________________________________________________________________\n",
      "dropout_3 (Dropout)          (None, 50)                0         \n",
      "_________________________________________________________________\n",
      "dense_1 (Dense)              (None, 1)                 51        \n",
      "=================================================================\n",
      "Total params: 51,651\n",
      "Trainable params: 51,651\n",
      "Non-trainable params: 0\n",
      "_________________________________________________________________\n"
     ]
    }
   ],
   "source": [
    "model = Sequential()\n",
    "model.add(CuDNNLSTM(units=50, return_sequences= True, input_shape=(X.shape[1],2)))\n",
    "model.add(Dropout(0.2))\n",
    "model.add(CuDNNLSTM(units=50, return_sequences=True))\n",
    "model.add(Dropout(0.2))\n",
    "model.add(CuDNNLSTM(units=50))\n",
    "model.add(Dropout(0.2))\n",
    "model.add(Dense(units=1))\n",
    "model.summary()"
   ]
  },
  {
   "cell_type": "code",
   "execution_count": 16,
   "metadata": {},
   "outputs": [],
   "source": [
    "model.compile(optimizer='adam', loss='mean_squared_error')"
   ]
  },
  {
   "cell_type": "code",
   "execution_count": 17,
   "metadata": {},
   "outputs": [
    {
     "name": "stdout",
     "output_type": "stream",
     "text": [
      "WARNING:tensorflow:From c:\\users\\mick\\appdata\\local\\programs\\python\\python37\\lib\\site-packages\\tensorflow\\python\\ops\\math_ops.py:3066: to_int32 (from tensorflow.python.ops.math_ops) is deprecated and will be removed in a future version.\n",
      "Instructions for updating:\n",
      "Use tf.cast instead.\n",
      "Epoch 1/200\n",
      "226066/226066 [==============================] - 12s 52us/step - loss: 0.0261\n",
      "Epoch 2/200\n",
      "226066/226066 [==============================] - 9s 38us/step - loss: 0.0027\n",
      "Epoch 3/200\n",
      "226066/226066 [==============================] - 9s 38us/step - loss: 0.0019\n",
      "Epoch 4/200\n",
      "226066/226066 [==============================] - 9s 38us/step - loss: 0.0017\n",
      "Epoch 5/200\n",
      "226066/226066 [==============================] - 9s 38us/step - loss: 0.0015\n",
      "Epoch 6/200\n",
      "226066/226066 [==============================] - 9s 38us/step - loss: 0.0014\n",
      "Epoch 7/200\n",
      "226066/226066 [==============================] - 9s 38us/step - loss: 0.0014\n",
      "Epoch 8/200\n",
      "226066/226066 [==============================] - 9s 38us/step - loss: 0.0013\n",
      "Epoch 9/200\n",
      "226066/226066 [==============================] - 9s 38us/step - loss: 0.0013\n",
      "Epoch 10/200\n",
      "226066/226066 [==============================] - 9s 38us/step - loss: 0.0012\n",
      "Epoch 11/200\n",
      "226066/226066 [==============================] - 9s 38us/step - loss: 0.0012\n",
      "Epoch 12/200\n",
      "226066/226066 [==============================] - 9s 38us/step - loss: 0.0012\n",
      "Epoch 13/200\n",
      "226066/226066 [==============================] - 9s 38us/step - loss: 0.0011\n",
      "Epoch 14/200\n",
      "226066/226066 [==============================] - 9s 38us/step - loss: 0.0011\n",
      "Epoch 15/200\n",
      "226066/226066 [==============================] - 9s 38us/step - loss: 0.0011\n",
      "Epoch 16/200\n",
      "226066/226066 [==============================] - 9s 39us/step - loss: 0.0011\n",
      "Epoch 17/200\n",
      "226066/226066 [==============================] - 9s 39us/step - loss: 0.0010\n",
      "Epoch 18/200\n",
      "226066/226066 [==============================] - 9s 39us/step - loss: 0.0010\n",
      "Epoch 19/200\n",
      "226066/226066 [==============================] - 9s 40us/step - loss: 9.9466e-04\n",
      "Epoch 20/200\n",
      "226066/226066 [==============================] - 9s 40us/step - loss: 9.7372e-04\n",
      "Epoch 21/200\n",
      "226066/226066 [==============================] - 9s 41us/step - loss: 9.6467e-04\n",
      "Epoch 22/200\n",
      "226066/226066 [==============================] - 9s 41us/step - loss: 9.2963e-04\n",
      "Epoch 23/200\n",
      "226066/226066 [==============================] - 9s 41us/step - loss: 9.2820e-04\n",
      "Epoch 24/200\n",
      "226066/226066 [==============================] - 9s 41us/step - loss: 9.1964e-04\n",
      "Epoch 25/200\n",
      "226066/226066 [==============================] - 9s 41us/step - loss: 9.0744e-04\n",
      "Epoch 26/200\n",
      "226066/226066 [==============================] - 9s 41us/step - loss: 9.1420e-04\n",
      "Epoch 27/200\n",
      "226066/226066 [==============================] - 9s 41us/step - loss: 8.9222e-04\n",
      "Epoch 28/200\n",
      "226066/226066 [==============================] - 9s 41us/step - loss: 8.7955e-04\n",
      "Epoch 29/200\n",
      "226066/226066 [==============================] - 9s 42us/step - loss: 8.7167e-04\n",
      "Epoch 30/200\n",
      "226066/226066 [==============================] - 9s 42us/step - loss: 8.6676e-04\n",
      "Epoch 31/200\n",
      "226066/226066 [==============================] - 9s 42us/step - loss: 8.7410e-04\n",
      "Epoch 32/200\n",
      "226066/226066 [==============================] - 9s 42us/step - loss: 8.4641e-04\n",
      "Epoch 33/200\n",
      "226066/226066 [==============================] - 9s 42us/step - loss: 8.4306e-04\n",
      "Epoch 34/200\n",
      "226066/226066 [==============================] - 9s 42us/step - loss: 8.2538e-04\n",
      "Epoch 35/200\n",
      "226066/226066 [==============================] - 9s 42us/step - loss: 8.1675e-04\n",
      "Epoch 36/200\n",
      "226066/226066 [==============================] - 9s 42us/step - loss: 8.1274e-04\n",
      "Epoch 37/200\n",
      "226066/226066 [==============================] - 10s 42us/step - loss: 8.0493e-04\n",
      "Epoch 38/200\n",
      "226066/226066 [==============================] - 10s 42us/step - loss: 7.9154e-04\n",
      "Epoch 39/200\n",
      "226066/226066 [==============================] - 10s 42us/step - loss: 7.9493e-04\n",
      "Epoch 40/200\n",
      "226066/226066 [==============================] - 10s 42us/step - loss: 7.8508e-04\n",
      "Epoch 41/200\n",
      "226066/226066 [==============================] - 10s 42us/step - loss: 7.9341e-04\n",
      "Epoch 42/200\n",
      "226066/226066 [==============================] - 10s 43us/step - loss: 7.7199e-04\n",
      "Epoch 43/200\n",
      "226066/226066 [==============================] - 10s 43us/step - loss: 7.8066e-04\n",
      "Epoch 44/200\n",
      "226066/226066 [==============================] - 10s 43us/step - loss: 7.6776e-04\n",
      "Epoch 45/200\n",
      "226066/226066 [==============================] - 10s 43us/step - loss: 7.5067e-04\n",
      "Epoch 46/200\n",
      "226066/226066 [==============================] - 10s 42us/step - loss: 7.6335e-04\n",
      "Epoch 47/200\n",
      "226066/226066 [==============================] - 10s 42us/step - loss: 7.3925e-04\n",
      "Epoch 48/200\n",
      "226066/226066 [==============================] - 10s 43us/step - loss: 7.5017e-04\n",
      "Epoch 49/200\n",
      "226066/226066 [==============================] - 10s 42us/step - loss: 7.4400e-04\n",
      "Epoch 50/200\n",
      "226066/226066 [==============================] - 10s 42us/step - loss: 7.1763e-04\n",
      "Epoch 51/200\n",
      "226066/226066 [==============================] - 10s 43us/step - loss: 7.2395e-04\n",
      "Epoch 52/200\n",
      "226066/226066 [==============================] - 10s 43us/step - loss: 7.7750e-04\n",
      "Epoch 53/200\n",
      "226066/226066 [==============================] - 10s 43us/step - loss: 7.2914e-04\n",
      "Epoch 54/200\n",
      "226066/226066 [==============================] - 10s 43us/step - loss: 7.1349e-04\n",
      "Epoch 55/200\n",
      "226066/226066 [==============================] - 10s 43us/step - loss: 7.0576e-04\n",
      "Epoch 56/200\n",
      "226066/226066 [==============================] - 10s 43us/step - loss: 6.9899e-04\n",
      "Epoch 57/200\n",
      "226066/226066 [==============================] - 10s 43us/step - loss: 6.8913e-04\n",
      "Epoch 58/200\n",
      "226066/226066 [==============================] - 10s 43us/step - loss: 7.0247e-04\n",
      "Epoch 59/200\n",
      "226066/226066 [==============================] - 10s 43us/step - loss: 6.9014e-04\n",
      "Epoch 60/200\n",
      "226066/226066 [==============================] - 10s 43us/step - loss: 6.9411e-04\n",
      "Epoch 61/200\n",
      "226066/226066 [==============================] - 10s 43us/step - loss: 6.7432e-04\n",
      "Epoch 62/200\n",
      "226066/226066 [==============================] - 10s 43us/step - loss: 6.7399e-04\n",
      "Epoch 63/200\n",
      "226066/226066 [==============================] - 10s 43us/step - loss: 6.7418e-04\n",
      "Epoch 64/200\n",
      "226066/226066 [==============================] - 10s 43us/step - loss: 6.6266e-04\n",
      "Epoch 65/200\n",
      "226066/226066 [==============================] - 10s 43us/step - loss: 6.7206e-04\n",
      "Epoch 66/200\n",
      "226066/226066 [==============================] - 10s 43us/step - loss: 6.6457e-04\n",
      "Epoch 67/200\n",
      "226066/226066 [==============================] - 10s 43us/step - loss: 6.6451e-04\n",
      "Epoch 68/200\n",
      "226066/226066 [==============================] - 10s 43us/step - loss: 6.4180e-04\n",
      "Epoch 69/200\n",
      "226066/226066 [==============================] - 10s 43us/step - loss: 6.6142e-04\n",
      "Epoch 70/200\n",
      "226066/226066 [==============================] - 10s 43us/step - loss: 6.4140e-04\n",
      "Epoch 71/200\n",
      "226066/226066 [==============================] - 10s 43us/step - loss: 6.3068e-04\n",
      "Epoch 72/200\n",
      "226066/226066 [==============================] - 10s 43us/step - loss: 6.3191e-04\n",
      "Epoch 73/200\n",
      "226066/226066 [==============================] - 10s 43us/step - loss: 6.2062e-04\n",
      "Epoch 74/200\n",
      "226066/226066 [==============================] - 10s 43us/step - loss: 6.3316e-04\n",
      "Epoch 75/200\n",
      "226066/226066 [==============================] - 10s 43us/step - loss: 6.2456e-04\n",
      "Epoch 76/200\n",
      "226066/226066 [==============================] - 10s 43us/step - loss: 6.2004e-04\n",
      "Epoch 77/200\n",
      "226066/226066 [==============================] - 10s 43us/step - loss: 6.2044e-04\n",
      "Epoch 78/200\n",
      "226066/226066 [==============================] - 10s 43us/step - loss: 6.2371e-04\n",
      "Epoch 79/200\n",
      "226066/226066 [==============================] - 10s 43us/step - loss: 6.1301e-04\n",
      "Epoch 80/200\n",
      "226066/226066 [==============================] - 10s 43us/step - loss: 6.0540e-04\n",
      "Epoch 81/200\n",
      "226066/226066 [==============================] - 10s 43us/step - loss: 5.9564e-04\n",
      "Epoch 82/200\n",
      "226066/226066 [==============================] - 10s 43us/step - loss: 6.0364e-04\n",
      "Epoch 83/200\n",
      "226066/226066 [==============================] - 10s 43us/step - loss: 5.9678e-04\n",
      "Epoch 84/200\n",
      "226066/226066 [==============================] - 10s 43us/step - loss: 5.8720e-04\n",
      "Epoch 85/200\n"
     ]
    },
    {
     "name": "stdout",
     "output_type": "stream",
     "text": [
      "226066/226066 [==============================] - 10s 43us/step - loss: 6.1150e-04\n",
      "Epoch 86/200\n",
      "226066/226066 [==============================] - 10s 43us/step - loss: 5.8911e-04\n",
      "Epoch 87/200\n",
      "226066/226066 [==============================] - 10s 43us/step - loss: 6.0120e-04\n",
      "Epoch 88/200\n",
      "226066/226066 [==============================] - 10s 43us/step - loss: 5.7727e-04\n",
      "Epoch 89/200\n",
      "226066/226066 [==============================] - 10s 43us/step - loss: 5.8116e-04\n",
      "Epoch 90/200\n",
      "226066/226066 [==============================] - 10s 43us/step - loss: 5.7356e-04\n",
      "Epoch 91/200\n",
      "226066/226066 [==============================] - 10s 43us/step - loss: 5.7757e-04\n",
      "Epoch 92/200\n",
      "226066/226066 [==============================] - 10s 43us/step - loss: 5.8534e-04\n",
      "Epoch 93/200\n",
      "226066/226066 [==============================] - 10s 43us/step - loss: 5.6972e-04\n",
      "Epoch 94/200\n",
      "226066/226066 [==============================] - 10s 43us/step - loss: 5.6107e-04\n",
      "Epoch 95/200\n",
      "226066/226066 [==============================] - 10s 43us/step - loss: 5.5622e-04\n",
      "Epoch 96/200\n",
      "226066/226066 [==============================] - 10s 43us/step - loss: 5.6570e-04\n",
      "Epoch 97/200\n",
      "226066/226066 [==============================] - 10s 43us/step - loss: 5.6852e-04\n",
      "Epoch 98/200\n",
      "226066/226066 [==============================] - 10s 43us/step - loss: 6.1072e-04\n",
      "Epoch 99/200\n",
      "226066/226066 [==============================] - 10s 43us/step - loss: 5.5939e-04\n",
      "Epoch 100/200\n",
      "226066/226066 [==============================] - 10s 43us/step - loss: 5.5747e-04\n",
      "Epoch 101/200\n",
      "226066/226066 [==============================] - 10s 43us/step - loss: 5.4824e-04\n",
      "Epoch 102/200\n",
      "226066/226066 [==============================] - 10s 43us/step - loss: 5.4673e-04\n",
      "Epoch 103/200\n",
      "226066/226066 [==============================] - 10s 43us/step - loss: 5.3923e-04\n",
      "Epoch 104/200\n",
      "226066/226066 [==============================] - 10s 43us/step - loss: 5.4754e-04\n",
      "Epoch 105/200\n",
      "226066/226066 [==============================] - 10s 43us/step - loss: 5.4309e-04\n",
      "Epoch 106/200\n",
      "226066/226066 [==============================] - 10s 43us/step - loss: 5.3589e-04\n",
      "Epoch 107/200\n",
      "226066/226066 [==============================] - 10s 43us/step - loss: 5.4346e-04\n",
      "Epoch 108/200\n",
      "226066/226066 [==============================] - 10s 43us/step - loss: 5.3326e-04\n",
      "Epoch 109/200\n",
      "226066/226066 [==============================] - 10s 43us/step - loss: 5.3381e-04\n",
      "Epoch 110/200\n",
      "226066/226066 [==============================] - 10s 43us/step - loss: 5.3174e-04\n",
      "Epoch 111/200\n",
      "226066/226066 [==============================] - 10s 43us/step - loss: 5.3542e-04\n",
      "Epoch 112/200\n",
      "226066/226066 [==============================] - 10s 43us/step - loss: 5.2456e-04\n",
      "Epoch 113/200\n",
      "226066/226066 [==============================] - 10s 43us/step - loss: 5.2423e-04\n",
      "Epoch 114/200\n",
      "226066/226066 [==============================] - 10s 43us/step - loss: 5.2362e-04\n",
      "Epoch 115/200\n",
      "226066/226066 [==============================] - 10s 44us/step - loss: 5.1744e-04\n",
      "Epoch 116/200\n",
      "226066/226066 [==============================] - 10s 43us/step - loss: 5.1911e-04\n",
      "Epoch 117/200\n",
      "226066/226066 [==============================] - 10s 43us/step - loss: 5.2268e-04\n",
      "Epoch 118/200\n",
      "226066/226066 [==============================] - 10s 43us/step - loss: 5.3328e-04\n",
      "Epoch 119/200\n",
      "226066/226066 [==============================] - 10s 43us/step - loss: 5.1844e-04\n",
      "Epoch 120/200\n",
      "226066/226066 [==============================] - 10s 43us/step - loss: 5.1377e-04\n",
      "Epoch 121/200\n",
      "226066/226066 [==============================] - 10s 43us/step - loss: 5.1913e-04\n",
      "Epoch 122/200\n",
      "226066/226066 [==============================] - 10s 43us/step - loss: 5.1224e-04\n",
      "Epoch 123/200\n",
      "226066/226066 [==============================] - 10s 43us/step - loss: 5.1791e-04\n",
      "Epoch 124/200\n",
      "226066/226066 [==============================] - 10s 43us/step - loss: 5.1443e-04\n",
      "Epoch 125/200\n",
      "226066/226066 [==============================] - 10s 43us/step - loss: 5.1156e-04\n",
      "Epoch 126/200\n",
      "226066/226066 [==============================] - 10s 43us/step - loss: 5.1816e-04\n",
      "Epoch 127/200\n",
      "226066/226066 [==============================] - 10s 43us/step - loss: 5.2806e-04\n",
      "Epoch 128/200\n",
      "226066/226066 [==============================] - 10s 43us/step - loss: 5.1083e-04\n",
      "Epoch 129/200\n",
      "226066/226066 [==============================] - 10s 43us/step - loss: 5.2423e-04\n",
      "Epoch 130/200\n",
      "226066/226066 [==============================] - 10s 43us/step - loss: 5.0877e-04\n",
      "Epoch 131/200\n",
      "226066/226066 [==============================] - 10s 43us/step - loss: 5.0684e-04\n",
      "Epoch 132/200\n",
      "226066/226066 [==============================] - 10s 44us/step - loss: 4.9763e-04\n",
      "Epoch 133/200\n",
      "226066/226066 [==============================] - 10s 43us/step - loss: 5.0519e-04\n",
      "Epoch 134/200\n",
      "226066/226066 [==============================] - 10s 43us/step - loss: 5.0007e-04\n",
      "Epoch 135/200\n",
      "226066/226066 [==============================] - 10s 43us/step - loss: 5.0036e-04\n",
      "Epoch 136/200\n",
      "226066/226066 [==============================] - 10s 43us/step - loss: 5.2066e-04\n",
      "Epoch 137/200\n",
      "226066/226066 [==============================] - 10s 43us/step - loss: 5.3640e-04\n",
      "Epoch 138/200\n",
      "226066/226066 [==============================] - 10s 43us/step - loss: 5.0977e-04\n",
      "Epoch 139/200\n",
      "226066/226066 [==============================] - 10s 43us/step - loss: 4.9897e-04\n",
      "Epoch 140/200\n",
      "226066/226066 [==============================] - 10s 43us/step - loss: 5.0688e-04\n",
      "Epoch 141/200\n",
      "226066/226066 [==============================] - 10s 43us/step - loss: 4.9865e-04\n",
      "Epoch 142/200\n",
      "226066/226066 [==============================] - 10s 43us/step - loss: 4.9473e-04\n",
      "Epoch 143/200\n",
      "226066/226066 [==============================] - 10s 43us/step - loss: 4.9785e-04\n",
      "Epoch 144/200\n",
      "226066/226066 [==============================] - 10s 43us/step - loss: 5.0159e-04\n",
      "Epoch 145/200\n",
      "226066/226066 [==============================] - 10s 43us/step - loss: 5.0619e-04\n",
      "Epoch 146/200\n",
      "226066/226066 [==============================] - 10s 43us/step - loss: 5.0725e-04\n",
      "Epoch 147/200\n",
      "226066/226066 [==============================] - 10s 44us/step - loss: 4.9470e-04\n",
      "Epoch 148/200\n",
      "226066/226066 [==============================] - 10s 43us/step - loss: 4.9014e-04\n",
      "Epoch 149/200\n",
      "226066/226066 [==============================] - 10s 43us/step - loss: 4.9253e-04\n",
      "Epoch 150/200\n",
      "226066/226066 [==============================] - 10s 43us/step - loss: 5.0035e-04\n",
      "Epoch 151/200\n",
      "226066/226066 [==============================] - 10s 44us/step - loss: 4.9444e-04\n",
      "Epoch 152/200\n",
      "226066/226066 [==============================] - 10s 44us/step - loss: 4.9164e-04\n",
      "Epoch 153/200\n",
      "226066/226066 [==============================] - 10s 43us/step - loss: 5.3649e-04\n",
      "Epoch 154/200\n",
      "226066/226066 [==============================] - 10s 43us/step - loss: 4.9804e-04\n",
      "Epoch 155/200\n",
      "226066/226066 [==============================] - 10s 43us/step - loss: 5.0624e-04\n",
      "Epoch 156/200\n",
      "226066/226066 [==============================] - 10s 43us/step - loss: 4.8892e-04\n",
      "Epoch 157/200\n",
      "226066/226066 [==============================] - 10s 43us/step - loss: 4.8755e-04\n",
      "Epoch 158/200\n",
      "226066/226066 [==============================] - 10s 44us/step - loss: 4.8673e-04\n",
      "Epoch 159/200\n",
      "226066/226066 [==============================] - 10s 43us/step - loss: 5.0028e-04\n",
      "Epoch 160/200\n",
      "226066/226066 [==============================] - 10s 43us/step - loss: 5.0344e-04\n",
      "Epoch 161/200\n",
      "226066/226066 [==============================] - 10s 43us/step - loss: 4.8775e-04\n",
      "Epoch 162/200\n",
      "226066/226066 [==============================] - 10s 43us/step - loss: 4.8943e-04\n",
      "Epoch 163/200\n",
      "226066/226066 [==============================] - 10s 43us/step - loss: 4.8745e-04\n",
      "Epoch 164/200\n",
      "226066/226066 [==============================] - 10s 43us/step - loss: 4.8322e-04\n",
      "Epoch 165/200\n",
      "226066/226066 [==============================] - 10s 43us/step - loss: 4.9445e-04\n",
      "Epoch 166/200\n",
      "226066/226066 [==============================] - 10s 43us/step - loss: 4.9828e-04\n",
      "Epoch 167/200\n",
      "226066/226066 [==============================] - 10s 43us/step - loss: 4.9512e-04\n",
      "Epoch 168/200\n",
      "226066/226066 [==============================] - 10s 43us/step - loss: 4.9009e-04\n",
      "Epoch 169/200\n",
      "226066/226066 [==============================] - 10s 43us/step - loss: 4.9486e-04\n",
      "Epoch 170/200\n"
     ]
    },
    {
     "name": "stdout",
     "output_type": "stream",
     "text": [
      "226066/226066 [==============================] - 10s 44us/step - loss: 4.9670e-04\n",
      "Epoch 171/200\n",
      "226066/226066 [==============================] - 10s 44us/step - loss: 5.0207e-04\n",
      "Epoch 172/200\n",
      "226066/226066 [==============================] - 10s 43us/step - loss: 4.8659e-04\n",
      "Epoch 173/200\n",
      "226066/226066 [==============================] - 10s 43us/step - loss: 4.8182e-04\n",
      "Epoch 174/200\n",
      "226066/226066 [==============================] - 10s 44us/step - loss: 4.8208e-04\n",
      "Epoch 175/200\n",
      "226066/226066 [==============================] - 10s 44us/step - loss: 4.8644e-04\n",
      "Epoch 176/200\n",
      "226066/226066 [==============================] - 10s 44us/step - loss: 4.9516e-04\n",
      "Epoch 177/200\n",
      "226066/226066 [==============================] - 10s 44us/step - loss: 4.9529e-04\n",
      "Epoch 178/200\n",
      "226066/226066 [==============================] - 10s 43us/step - loss: 5.0725e-04\n",
      "Epoch 179/200\n",
      "226066/226066 [==============================] - 10s 43us/step - loss: 4.8673e-04\n",
      "Epoch 180/200\n",
      "226066/226066 [==============================] - 10s 44us/step - loss: 4.8447e-04\n",
      "Epoch 181/200\n",
      "226066/226066 [==============================] - 10s 43us/step - loss: 5.0961e-04\n",
      "Epoch 182/200\n",
      "226066/226066 [==============================] - 10s 43us/step - loss: 4.8358e-04\n",
      "Epoch 183/200\n",
      "226066/226066 [==============================] - 10s 43us/step - loss: 4.7624e-04\n",
      "Epoch 184/200\n",
      "226066/226066 [==============================] - 10s 43us/step - loss: 4.9091e-04\n",
      "Epoch 185/200\n",
      "226066/226066 [==============================] - 10s 44us/step - loss: 5.0122e-04\n",
      "Epoch 186/200\n",
      "226066/226066 [==============================] - 10s 43us/step - loss: 4.9095e-04\n",
      "Epoch 187/200\n",
      "226066/226066 [==============================] - 10s 44us/step - loss: 4.8607e-04\n",
      "Epoch 188/200\n",
      "226066/226066 [==============================] - 10s 43us/step - loss: 5.0819e-04\n",
      "Epoch 189/200\n",
      "226066/226066 [==============================] - 10s 43us/step - loss: 4.9951e-04\n",
      "Epoch 190/200\n",
      "226066/226066 [==============================] - 10s 43us/step - loss: 4.8615e-04\n",
      "Epoch 191/200\n",
      "226066/226066 [==============================] - 10s 43us/step - loss: 4.8406e-04\n",
      "Epoch 192/200\n",
      "226066/226066 [==============================] - 10s 43us/step - loss: 4.7908e-04\n",
      "Epoch 193/200\n",
      "226066/226066 [==============================] - 10s 43us/step - loss: 4.7975e-04\n",
      "Epoch 194/200\n",
      "226066/226066 [==============================] - 10s 43us/step - loss: 4.9402e-04\n",
      "Epoch 195/200\n",
      "226066/226066 [==============================] - 10s 43us/step - loss: 4.9509e-04\n",
      "Epoch 196/200\n",
      "226066/226066 [==============================] - 10s 43us/step - loss: 4.9152e-04\n",
      "Epoch 197/200\n",
      "226066/226066 [==============================] - 10s 44us/step - loss: 4.7995e-04\n",
      "Epoch 198/200\n",
      "226066/226066 [==============================] - 10s 43us/step - loss: 4.8123e-04\n",
      "Epoch 199/200\n",
      "226066/226066 [==============================] - 10s 43us/step - loss: 4.8576e-04\n",
      "Epoch 200/200\n",
      "226066/226066 [==============================] - 10s 44us/step - loss: 4.8580e-04\n"
     ]
    },
    {
     "data": {
      "text/plain": [
       "<keras.callbacks.History at 0x1712a1527f0>"
      ]
     },
     "execution_count": 17,
     "metadata": {},
     "output_type": "execute_result"
    }
   ],
   "source": [
    "model.fit(X, y, epochs=200, batch_size=9999)"
   ]
  },
  {
   "cell_type": "code",
   "execution_count": 18,
   "metadata": {},
   "outputs": [],
   "source": [
    "predicted_value= model.predict(X_test)"
   ]
  },
  {
   "cell_type": "code",
   "execution_count": 24,
   "metadata": {},
   "outputs": [
    {
     "data": {
      "image/png": "[encoded data removed]",
      "text/plain": [
       "<Figure size 432x288 with 1 Axes>"
      ]
     },
     "metadata": {
      "needs_background": "light"
     },
     "output_type": "display_data"
    }
   ],
   "source": [
    "plt.plot(input_data[lookback:test_size+(2*lookback),0], color='green')\n",
    "plt.plot(predicted_value, color= 'red')\n",
    "plt.title(\"BTC Price 2019\")\n",
    "plt.xlabel(\"Time (latest-> oldest)\")\n",
    "plt.ylabel(\"Stock Opening Price\")\n",
    "plt.show()"
   ]
  },
  {
   "cell_type": "code",
   "execution_count": 25,
   "metadata": {},
   "outputs": [],
   "source": [
    "model.save('price.h5')"
   ]
  },
  {
   "cell_type": "code",
   "execution_count": 58,
   "metadata": {},
   "outputs": [
    {
     "name": "stdout",
     "output_type": "stream",
     "text": [
      "67885\n",
      "0.0012791787177760785\n",
      "[[0. 0.]\n",
      " [0. 0.]\n",
      " [0. 0.]\n",
      " ...\n",
      " [0. 0.]\n",
      " [0. 0.]\n",
      " [0. 0.]]\n",
      "[[0.0598473         nan]\n",
      " [0.05978058        nan]\n",
      " [0.05973521        nan]\n",
      " ...\n",
      " [0.0669897         nan]\n",
      " [0.06822346        nan]\n",
      " [0.06941034        nan]]\n"
     ]
    }
   ],
   "source": [
    "print(len(predicted_value))\n",
    "print(input_data[0][1])\n",
    "tap = np.zeros((67885,2))\n",
    "print(tap)\n",
    "for i in range (0,67885):\n",
    "    tap[i][0] = predicted_value[i]\n",
    "    tap[i][1] = None\n",
    "print(tap)\n",
    "inv = scaler.inverse_transform(tap)"
   ]
  },
  {
   "cell_type": "code",
   "execution_count": 59,
   "metadata": {},
   "outputs": [
    {
     "data": {
      "image/png": "[encoded data removed]",
      "text/plain": [
       "<Figure size 432x288 with 1 Axes>"
      ]
     },
     "metadata": {
      "needs_background": "light"
     },
     "output_type": "display_data"
    }
   ],
   "source": [
    "plt.plot(btc1mframe['Close'])\n",
    "plt.plot(inv, color= 'red')\n",
    "plt.title(\"BTC Price 2019\")\n",
    "plt.xlabel(\"Time (latest-> oldest)\")\n",
    "plt.ylabel(\"Stock Opening Price\")\n",
    "plt.show()"
   ]
  },
  {
   "cell_type": "code",
   "execution_count": null,
   "metadata": {},
   "outputs": [],
   "source": []
  }
 ],
 "metadata": {
  "kernelspec": {
   "display_name": "Python 3",
   "language": "python",
   "name": "python3"
  },
  "language_info": {
   "codemirror_mode": {
    "name": "ipython",
    "version": 3
   },
   "file_extension": ".py",
   "mimetype": "text/x-python",
   "name": "python",
   "nbconvert_exporter": "python",
   "pygments_lexer": "ipython3",
   "version": "3.7.0"
  }
 },
 "nbformat": 4,
 "nbformat_minor": 2
}
